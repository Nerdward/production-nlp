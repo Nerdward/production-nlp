{
 "cells": [
  {
   "cell_type": "code",
   "execution_count": null,
   "id": "1c713d2d-a336-4b7a-b910-628367f43e77",
   "metadata": {},
   "outputs": [],
   "source": [
    "# Load libraries\n",
    "# Python\n",
    "import spacy\n",
    "import numpy as np\n",
    "import pandas as pd\n",
    "# PySpark\n",
    "from pyspark.sql.functions import udf\n",
    "from pyspark.sql.types import StringType, ArrayType\n",
    "from pyspark.sql.types import *"
   ]
  },
  {
   "cell_type": "code",
   "execution_count": null,
   "id": "c15dd08f-ed4e-4667-bafc-dee33feb0147",
   "metadata": {},
   "outputs": [],
   "source": [
    "# Load data\n",
    "inputPath = getArgument(\"inputPath\", \"default\")\n",
    "df = spark.read.format('csv').options(header='true', inferSchema='true', \\\n",
    "quote=\"\\\"\", escape= \"\\\"\").load(inputPath)"
   ]
  },
  {
   "cell_type": "code",
   "execution_count": null,
   "id": "5f2f6b85-d51a-423c-971c-e3482e9cec8a",
   "metadata": {},
   "outputs": [],
   "source": [
    "# Define schema\n",
    "schema = ArrayType(StructType([\n",
    "    StructField(\"text\", StringType(), False),\n",
    "    StructField(\"start_char\", IntegerType(), False),\n",
    "    StructField(\"end_char\", IntegerType(), False),\n",
    "    StructField(\"label\", StringType(), False)\n",
    "    ]))"
   ]
  },
  {
   "cell_type": "code",
   "execution_count": null,
   "id": "452fe58a-2506-46fc-9549-e1cdebaeaf5b",
   "metadata": {},
   "outputs": [],
   "source": [
    "# Define function to get entities\n",
    "def get_entities(text):\n",
    "    global nlp\n",
    "    try:\n",
    "        doc = nlp(text)\n",
    "    except:\n",
    "        nlp = spacy.load('en_ner_base_V3')\n",
    "    doc = nlp(text)\n",
    "    return [[e.text, e.start_char, e.end_char, e.label_] for e in doc.ents]\n",
    "\n",
    "get_entities_udf = udf(lambda x: get_entities(x), schema)"
   ]
  },
  {
   "cell_type": "code",
   "execution_count": null,
   "id": "a752726c-0328-42a8-adc1-7d2503f80c87",
   "metadata": {},
   "outputs": [],
   "source": [
    "# Get Entities\n",
    "documents_df = df.withColumn('entities', get_entities_udf('description'))\n",
    "Finally, we will write the PySpark DataFrame as a Parquet file. Note that the output"
   ]
  },
  {
   "cell_type": "code",
   "execution_count": null,
   "id": "efe76fd5-ebb7-4503-8a70-7ea03eddd717",
   "metadata": {},
   "outputs": [],
   "source": [
    "# Write Parquet\n",
    "outPath = getArgument(\"outputPath\", \"default\")\n",
    "documents_df.write.format(\"parquet\").mode(\"overwrite\").save(outPath)"
   ]
  },
  {
   "cell_type": "code",
   "execution_count": null,
   "id": "4bd9065f-cd37-42e5-9e82-e672c90c5269",
   "metadata": {},
   "outputs": [],
   "source": []
  }
 ],
 "metadata": {
  "kernelspec": {
   "display_name": "default:Python",
   "language": "python",
   "name": "conda-env-default-py"
  },
  "language_info": {
   "codemirror_mode": {
    "name": "ipython",
    "version": 3
   },
   "file_extension": ".py",
   "mimetype": "text/x-python",
   "name": "python",
   "nbconvert_exporter": "python",
   "pygments_lexer": "ipython3",
   "version": "3.9.13"
  }
 },
 "nbformat": 4,
 "nbformat_minor": 5
}
